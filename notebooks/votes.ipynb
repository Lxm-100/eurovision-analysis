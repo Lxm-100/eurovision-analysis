{
 "cells": [
  {
   "cell_type": "code",
   "execution_count": 1,
   "id": "8fba2ebf",
   "metadata": {},
   "outputs": [],
   "source": [
    "import pandas as pd\n",
    "import numpy as np"
   ]
  },
  {
   "cell_type": "markdown",
   "id": "060b37a0",
   "metadata": {},
   "source": [
    "# Format the votes.csv that was provided in the Eurovision Dataset of GitHub user Spijkervet\n",
    "\n",
    "url: https://zenodo.org/badge/latestdoi/214236225\n",
    "\n",
    "\n",
    "Prior to formatting, the file was manually updated with data from 2021-2023 "
   ]
  },
  {
   "cell_type": "code",
   "execution_count": null,
   "id": "886ed689",
   "metadata": {},
   "outputs": [],
   "source": [
    "votes = pd.read_csv(\"../data/votes.csv\")\n",
    "country_codes = pd.read_csv(\"../data/country_codes.csv\")"
   ]
  },
  {
   "cell_type": "markdown",
   "id": "90f2cb8e",
   "metadata": {},
   "source": [
    "### Adding 2-letter country codes to votes.df"
   ]
  },
  {
   "cell_type": "code",
   "execution_count": null,
   "id": "5fc851e5",
   "metadata": {},
   "outputs": [],
   "source": [
    "country_codes[\"name\"] = country_codes[\"name\"].str.upper()"
   ]
  },
  {
   "cell_type": "code",
   "execution_count": null,
   "id": "9c9df062",
   "metadata": {},
   "outputs": [],
   "source": [
    "country_codes.rename(columns={'name': 'from_country'},\n",
    "          inplace=True, errors='raise')"
   ]
  },
  {
   "cell_type": "code",
   "execution_count": null,
   "id": "34c999db",
   "metadata": {},
   "outputs": [],
   "source": [
    "votes_merged = votes.merge(country_codes, on=\"from_country\", how=\"left\", indicator=True)"
   ]
  },
  {
   "cell_type": "markdown",
   "id": "ef2b87c8",
   "metadata": {},
   "source": [
    "### Dropping unnecessary columns"
   ]
  },
  {
   "cell_type": "code",
   "execution_count": null,
   "id": "6eb1af3d",
   "metadata": {},
   "outputs": [],
   "source": [
    "votes_merged.drop(['alpha2', 'alpha3', \"_merge\"], axis = 1, inplace = True) "
   ]
  },
  {
   "cell_type": "markdown",
   "id": "9ce226b3",
   "metadata": {},
   "source": [
    "### Adding 1.st of May date to all ESC dates\n",
    "\n",
    "- otherwise overlay of political events will not show up correctly in relation to the contest dates"
   ]
  },
  {
   "cell_type": "code",
   "execution_count": null,
   "id": "cd917f16",
   "metadata": {},
   "outputs": [],
   "source": [
    "votes_merged[\"year\"] = votes_merged[\"year\"].astype(str)"
   ]
  },
  {
   "cell_type": "code",
   "execution_count": null,
   "id": "a3b6e736",
   "metadata": {},
   "outputs": [],
   "source": [
    "votes_merged[\"year\"] = votes_merged[\"year\"].astype(str) + \"-05-01\""
   ]
  },
  {
   "cell_type": "code",
   "execution_count": null,
   "id": "d88edbe2",
   "metadata": {},
   "outputs": [],
   "source": [
    "votes_merged['year'] = pd.to_datetime(votes_merged['year'], format='%Y-%m-%d %H:%M:%S')"
   ]
  },
  {
   "cell_type": "markdown",
   "id": "26df9d4e",
   "metadata": {},
   "source": [
    "### Sorting data so .csv can more easily be analyzed"
   ]
  },
  {
   "cell_type": "code",
   "execution_count": null,
   "id": "f0cc0b80",
   "metadata": {},
   "outputs": [],
   "source": [
    "votes_merged = votes_merged.sort_values(by=['year', \"to_country\"], ascending=True)"
   ]
  },
  {
   "cell_type": "markdown",
   "id": "b390159c",
   "metadata": {},
   "source": [
    "### Save file to .csv and change name to votes_clean"
   ]
  },
  {
   "cell_type": "code",
   "execution_count": null,
   "id": "23defa74",
   "metadata": {},
   "outputs": [],
   "source": [
    "#votes_merged.to_csv('../data/votes_clean.csv', index=False)"
   ]
  },
  {
   "cell_type": "code",
   "execution_count": null,
   "id": "cbfdc1e0",
   "metadata": {},
   "outputs": [],
   "source": [
    "#votes_clean = pd.read_csv(\"../data/votes_clean.csv\")"
   ]
  },
  {
   "cell_type": "code",
   "execution_count": null,
   "id": "5a853906",
   "metadata": {},
   "outputs": [],
   "source": []
  },
  {
   "cell_type": "code",
   "execution_count": null,
   "id": "8fdeac98",
   "metadata": {},
   "outputs": [],
   "source": []
  },
  {
   "cell_type": "code",
   "execution_count": null,
   "id": "d09fe366",
   "metadata": {},
   "outputs": [],
   "source": []
  },
  {
   "cell_type": "code",
   "execution_count": null,
   "id": "8da507a3",
   "metadata": {},
   "outputs": [],
   "source": []
  }
 ],
 "metadata": {
  "kernelspec": {
   "display_name": "Python 3 (ipykernel)",
   "language": "python",
   "name": "python3"
  },
  "language_info": {
   "codemirror_mode": {
    "name": "ipython",
    "version": 3
   },
   "file_extension": ".py",
   "mimetype": "text/x-python",
   "name": "python",
   "nbconvert_exporter": "python",
   "pygments_lexer": "ipython3",
   "version": "3.8.3"
  }
 },
 "nbformat": 4,
 "nbformat_minor": 5
}
